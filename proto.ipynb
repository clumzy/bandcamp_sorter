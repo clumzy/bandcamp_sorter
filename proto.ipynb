{
 "cells": [
  {
   "cell_type": "code",
   "execution_count": 1,
   "metadata": {},
   "outputs": [
    {
     "name": "stdout",
     "output_type": "stream",
     "text": [
      "Table links has been found. Connecting now !\n"
     ]
    },
    {
     "name": "stderr",
     "output_type": "stream",
     "text": [
      "100%|██████████| 258/258 [00:00<00:00, 313116.44it/s]\n"
     ]
    }
   ],
   "source": [
    "from bandcamp_reader import BandcampReader\n",
    "\n",
    "bc = BandcampReader()\n",
    "links = bc.load_releases(verbose=False)"
   ]
  },
  {
   "cell_type": "code",
   "execution_count": 2,
   "metadata": {},
   "outputs": [
    {
     "name": "stdout",
     "output_type": "stream",
     "text": [
      "[('182f4bb613983601', 'https://katanacologne.bandcamp.com/track/phoenix-from-the-ashes-kta014'), ('182d4d53973a5aae', 'https://marcromboy.bandcamp.com/track/i-am-a-dancer-with-c-a-r'), ('182b6e6163edb3d4', 'https://grooveestate.bandcamp.com/album/made-in-buenos-aires'), ('182b66c7592fea63', 'https://expelyourdemons.bandcamp.com/album/non-reversible-change-of-tendency-expelvnl02'), ('182a7af2adb3600a', 'https://rawppl.bandcamp.com/album/a-mina-e-louca-feat-dani-delion'), ('1826d5e63ad20eed', 'https://10pillsmate.bandcamp.com/album/warp-ep'), ('1824b02d757b51d5', 'https://psy4aliens.bandcamp.com/album/8kicks-cambia'), ('18249d1d370bd797', 'https://stayupforever.bandcamp.com/track/yes-london-suf-1002-b1'), ('18248c5e416da43b', 'https://grooveestate.bandcamp.com/album/rossmarkt-rumble-ep'), ('18246e81b7e3c3e5', 'https://garymartin.bandcamp.com/album/rf-the-teknotika-tracks'), ('1822531c1d8529f8', 'https://ad93.bandcamp.com/album/056-the-lotus'), ('1821ac72f266be20', 'https://intothedeeprecords.bandcamp.com/album/genuine-nu-ambient-grooves'), ('182157f476824a6b', 'https://molekul.bandcamp.com/album/perfusion-02'), ('181cdd464bcbeae6', 'https://uttu.club/album/attention-ep'), ('181b94b04ff8b105', 'https://lobstertheremin.com/album/larp-os'), ('181b9278645e9642', 'https://maisoncloserecords.bandcamp.com/album/abem-its-been-a-long-time-since-i-killed-a-jedi-ep-tris-remix'), ('181b5a8f0e1a7427', 'https://rawppl.bandcamp.com/album/raw-summer-hits-iii'), ('18147a2c56b3e03f', 'https://djoko.bandcamp.com/album/hoove-br-u-vol-48'), ('18128e04848bd142', 'https://ntbr.bandcamp.com/album/ntbr-raise-001'), ('18119dbeefd8e656', 'https://uniontrancemission.bandcamp.com/album/a-b-series-10'), ('180d7e5f6e455f6e', 'https://expelyourdemons.bandcamp.com/album/free-download-series-season-3'), ('180d7bdd2e3d1f5f', 'https://weirdtracx.bandcamp.com/album/sun'), ('180d1806049ce77b', 'https://uniontrancemission.bandcamp.com/album/a-b-series-9'), ('180c80260307c3a7', 'https://music4clubbers.bandcamp.com/album/music4clubbers-best-of-3-yrs-bandcamp-edition'), ('180bef645e87d3a3', 'https://phobosrecords.bandcamp.com/album/ua-selections-vol-2-free-download'), ('1808bd469e70b53f', 'https://hooshhoosh.bandcamp.com/track/2nite-i-need-luv'), ('1807496e64fd6394', 'https://raiserecords.bandcamp.com/album/laze-lost-treasures-ep'), ('18071575fce01604', 'https://garymartin.bandcamp.com/album/mole-people-5'), ('1806556dcb71a55e', 'https://uniontrancemission.bandcamp.com/album/a-b-series-8'), ('1805fd56c3ac7243', 'https://otomotrax.bandcamp.com/album/cxc'), ('1802e09a97537df0', 'https://grooveestate.bandcamp.com/album/groove-estate-presents-the-bootlegs-vol-1'), ('1802cdd3cd9edc75', 'https://artsrecordings.bandcamp.com/album/eternity-to-explain'), ('1801d41b63437637', 'https://uniontrancemission.bandcamp.com/album/a-b-series-7'), ('17fe5157e2d40ad4', 'https://music4clubbers.bandcamp.com/album/groovearth-secret-garden-ep'), ('17fdfe45c1139ff3', 'https://music4aliens.bandcamp.com/album/va-talents-showcase-vol-2'), ('17fd5249714fd4ec', 'https://uniontrancemission.bandcamp.com/album/a-b-series-6')]\n"
     ]
    }
   ],
   "source": [
    "bc.remove_tracks_from_gmail()"
   ]
  },
  {
   "cell_type": "code",
   "execution_count": null,
   "metadata": {},
   "outputs": [],
   "source": [
    "bc.download_links()"
   ]
  }
 ],
 "metadata": {
  "kernelspec": {
   "display_name": "Python 3.10.4 64-bit ('main')",
   "language": "python",
   "name": "python3"
  },
  "language_info": {
   "codemirror_mode": {
    "name": "ipython",
    "version": 3
   },
   "file_extension": ".py",
   "mimetype": "text/x-python",
   "name": "python",
   "nbconvert_exporter": "python",
   "pygments_lexer": "ipython3",
   "version": "3.10.4"
  },
  "orig_nbformat": 4,
  "vscode": {
   "interpreter": {
    "hash": "f0525b7cc4b8c2954bc42016ed01073f60791468b94cf280e53489d3a471fb46"
   }
  }
 },
 "nbformat": 4,
 "nbformat_minor": 2
}
