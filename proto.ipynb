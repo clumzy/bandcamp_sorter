{
 "cells": [
  {
   "cell_type": "code",
   "execution_count": 1,
   "metadata": {},
   "outputs": [
    {
     "name": "stdout",
     "output_type": "stream",
     "text": [
      "Table links has been found. Connecting now !\n"
     ]
    }
   ],
   "source": [
    "from bandcamp_reader import BandcampReader\n",
    "\n",
    "bc = BandcampReader()\n",
    "links = bc.load_releases(verbose=False)"
   ]
  },
  {
   "cell_type": "code",
   "execution_count": 2,
   "metadata": {},
   "outputs": [
    {
     "name": "stdout",
     "output_type": "stream",
     "text": [
      "\n",
      "Detected Bandcamp album.\n",
      "\n",
      "Giancarlo Di Chiara - Giancarlo Di Chiara - The Lion and the Cage\n",
      "1. https://music4aliens.bandcamp.com/track/giancarlo-di-chiara-the-lion-and-the-cage\n",
      "\n",
      "Writing album to /Users/george.pied/Code/clumzy/bandcamp_sorter/output/Giancarlo Di Chiara - Giancarlo Di Chiara - The Lion and the Cage/\n",
      "\n",
      "Downloading: Giancarlo Di Chiara - Giancarlo Di Chiara - The Lion and the Cage - 1 The Lion and the Cage.mp3\n",
      "File already found. Skipping download.\n",
      "\n",
      "Finished album download. Downloader complete.\n",
      "\n",
      "Detected Bandcamp track.\n",
      "\n",
      "Writing file to /Users/george.pied/Code/clumzy/bandcamp_sorter/output/\n",
      "\n",
      "Downloading: Hush Hush - What U Need (Dialed-Up Mix).mp3\n",
      "File already found. Skipping download.\n",
      "\n",
      "Finished track download. Downloader complete.\n",
      "\n",
      "Detected Bandcamp album.\n",
      "\n",
      "Expel Your Demons - Non Reversible - Change of Tendency [EXPELVNL02]\n",
      "\n",
      "Writing album to /Users/george.pied/Code/clumzy/bandcamp_sorter/output/Expel Your Demons - Non Reversible - Change of Tendency [EXPELVNL02]/\n",
      "\n",
      "Finished album download. Downloader complete.\n",
      "\n",
      "Detected Bandcamp album.\n",
      "\n",
      "Jonah Almost - Almost Dead Feat. D3AD6OY\n",
      "1. https://uttu.club/track/almost-dead-feat-d3ad6oy\n",
      "2. https://uttu.club/track/russian-roulette\n",
      "\n",
      "Writing album to /Users/george.pied/Code/clumzy/bandcamp_sorter/output/Jonah Almost - Almost Dead Feat. D3AD6OY/\n",
      "\n",
      "Downloading: Jonah Almost - Almost Dead Feat. D3AD6OY - 1 Almost Dead Feat. D3AD6OY.mp3\n",
      "File already found. Skipping download.\n",
      "\n",
      "Downloading: Jonah Almost - Almost Dead Feat. D3AD6OY - 2 Russian Roulette.mp3\n",
      "File already found. Skipping download.\n",
      "\n",
      "Finished album download. Downloader complete.\n",
      "\n",
      "Detected Bandcamp track.\n",
      "\n",
      "Writing file to /Users/george.pied/Code/clumzy/bandcamp_sorter/output/\n",
      "\n",
      "Downloading: Tatyana Jane - Vertigo City.mp3\n",
      "File already found. Skipping download.\n",
      "\n",
      "Finished track download. Downloader complete.\n",
      "\n",
      "Detected Bandcamp album.\n",
      "\n",
      "Szafran - Szafran - Animals [STEP041]\n",
      "1. https://steprecordings.bandcamp.com/track/animals\n",
      "2. https://steprecordings.bandcamp.com/track/secrets\n",
      "\n",
      "Writing album to /Users/george.pied/Code/clumzy/bandcamp_sorter/output/Szafran - Szafran - Animals [STEP041]/\n",
      "\n",
      "Downloading: Szafran - Szafran - Animals [STEP041] - 1 Animals.mp3\n",
      "[==================================================>] 5.49MB / 5.49MB \n",
      "\n",
      "Downloading: Szafran - Szafran - Animals [STEP041] - 2 Secrets.mp3\n",
      "[===========>                                       ] 1.26MB / 5.57MB "
     ]
    },
    {
     "name": "stderr",
     "output_type": "stream",
     "text": [
      "IOPub message rate exceeded.\n",
      "The notebook server will temporarily stop sending output\n",
      "to the client in order to avoid crashing it.\n",
      "To change this limit, set the config variable\n",
      "`--NotebookApp.iopub_msg_rate_limit`.\n",
      "\n",
      "Current values:\n",
      "NotebookApp.iopub_msg_rate_limit=1000.0 (msgs/sec)\n",
      "NotebookApp.rate_limit_window=3.0 (secs)\n",
      "\n"
     ]
    },
    {
     "name": "stdout",
     "output_type": "stream",
     "text": [
      "\n",
      "Detected Bandcamp album.\n",
      "\n",
      "nthng - Shine\n",
      "1. https://nthng.bandcamp.com/track/shine-2\n",
      "2. https://nthng.bandcamp.com/track/embryo\n",
      "3. https://nthng.bandcamp.com/track/lyla\n",
      "4. https://nthng.bandcamp.com/track/atom\n",
      "\n",
      "Writing album to /Users/george.pied/Code/clumzy/bandcamp_sorter/output/nthng - Shine/\n",
      "\n",
      "Downloading: nthng - Shine - 1 Shine.mp3\n",
      "[==================================================>] 5.8MB / 5.8MB  \n",
      "\n",
      "Downloading: nthng - Shine - 2 Embryo.mp3\n",
      "[========>                                          ] 0.79MB / 4.56MB "
     ]
    },
    {
     "name": "stderr",
     "output_type": "stream",
     "text": [
      "IOPub message rate exceeded.\n",
      "The notebook server will temporarily stop sending output\n",
      "to the client in order to avoid crashing it.\n",
      "To change this limit, set the config variable\n",
      "`--NotebookApp.iopub_msg_rate_limit`.\n",
      "\n",
      "Current values:\n",
      "NotebookApp.iopub_msg_rate_limit=1000.0 (msgs/sec)\n",
      "NotebookApp.rate_limit_window=3.0 (secs)\n",
      "\n"
     ]
    },
    {
     "name": "stdout",
     "output_type": "stream",
     "text": [
      "[==================================================>] 3.54MB / 3.54MB \n",
      "\n",
      "Downloading: nthng - Shine - 4 Atom.mp3\n",
      "[=====================>                             ] 3.85MB / 8.97MB "
     ]
    },
    {
     "name": "stderr",
     "output_type": "stream",
     "text": [
      "IOPub message rate exceeded.\n",
      "The notebook server will temporarily stop sending output\n",
      "to the client in order to avoid crashing it.\n",
      "To change this limit, set the config variable\n",
      "`--NotebookApp.iopub_msg_rate_limit`.\n",
      "\n",
      "Current values:\n",
      "NotebookApp.iopub_msg_rate_limit=1000.0 (msgs/sec)\n",
      "NotebookApp.rate_limit_window=3.0 (secs)\n",
      "\n"
     ]
    },
    {
     "name": "stdout",
     "output_type": "stream",
     "text": [
      "\n",
      "Detected Bandcamp album.\n",
      "\n",
      "nthng - The Traveller\n",
      "1. https://nthng.bandcamp.com/track/the-traveller\n",
      "2. https://nthng.bandcamp.com/track/blazer-assault-mix\n",
      "3. https://nthng.bandcamp.com/track/blazer-dub-mix\n",
      "\n",
      "Writing album to /Users/george.pied/Code/clumzy/bandcamp_sorter/output/nthng - The Traveller/\n",
      "\n",
      "Downloading: nthng - The Traveller - 1 The Traveller.mp3\n",
      "[==================================>                ] 6.86MB / 9.99MB "
     ]
    },
    {
     "name": "stderr",
     "output_type": "stream",
     "text": [
      "IOPub message rate exceeded.\n",
      "The notebook server will temporarily stop sending output\n",
      "to the client in order to avoid crashing it.\n",
      "To change this limit, set the config variable\n",
      "`--NotebookApp.iopub_msg_rate_limit`.\n",
      "\n",
      "Current values:\n",
      "NotebookApp.iopub_msg_rate_limit=1000.0 (msgs/sec)\n",
      "NotebookApp.rate_limit_window=3.0 (secs)\n",
      "\n"
     ]
    },
    {
     "name": "stdout",
     "output_type": "stream",
     "text": [
      "[=================================================> ] 7.94MB / 8.06MB "
     ]
    },
    {
     "name": "stderr",
     "output_type": "stream",
     "text": [
      "IOPub message rate exceeded.\n",
      "The notebook server will temporarily stop sending output\n",
      "to the client in order to avoid crashing it.\n",
      "To change this limit, set the config variable\n",
      "`--NotebookApp.iopub_msg_rate_limit`.\n",
      "\n",
      "Current values:\n",
      "NotebookApp.iopub_msg_rate_limit=1000.0 (msgs/sec)\n",
      "NotebookApp.rate_limit_window=3.0 (secs)\n",
      "\n"
     ]
    },
    {
     "name": "stdout",
     "output_type": "stream",
     "text": [
      "\n",
      "Detected Bandcamp album.\n",
      "\n",
      "Charly Schaller - A Mina E Louca feat. Dani DeLion\n",
      "\n",
      "Writing album to /Users/george.pied/Code/clumzy/bandcamp_sorter/output/Charly Schaller - A Mina E Louca feat. Dani DeLion/\n",
      "\n",
      "Finished album download. Downloader complete.\n",
      "\n",
      "Detected Bandcamp album.\n",
      "\n",
      "Meg Ward - Connections EP\n",
      "1. https://lobstertheremin.com/track/have-ur-love\n",
      "2. https://lobstertheremin.com/track/tekhergucci\n",
      "\n",
      "Writing album to /Users/george.pied/Code/clumzy/bandcamp_sorter/output/Meg Ward - Connections EP/\n",
      "\n",
      "Downloading: Meg Ward - Connections EP - 1 Have Ur Love.mp3\n",
      "[==================================================>] 4.19MB / 4.19MB \n",
      "\n",
      "Downloading: Meg Ward - Connections EP - 2 TekHerGucci.mp3\n",
      "[=============================>                     ] 2.63MB / 4.53MB "
     ]
    },
    {
     "name": "stderr",
     "output_type": "stream",
     "text": [
      "IOPub message rate exceeded.\n",
      "The notebook server will temporarily stop sending output\n",
      "to the client in order to avoid crashing it.\n",
      "To change this limit, set the config variable\n",
      "`--NotebookApp.iopub_msg_rate_limit`.\n",
      "\n",
      "Current values:\n",
      "NotebookApp.iopub_msg_rate_limit=1000.0 (msgs/sec)\n",
      "NotebookApp.rate_limit_window=3.0 (secs)\n",
      "\n"
     ]
    },
    {
     "name": "stdout",
     "output_type": "stream",
     "text": [
      "\n",
      "Detected Bandcamp album.\n",
      "\n",
      "Kristian - Introspection\n",
      "\n",
      "Writing album to /Users/george.pied/Code/clumzy/bandcamp_sorter/output/Kristian - Introspection/\n",
      "\n",
      "Finished album download. Downloader complete.\n",
      "\n",
      "Detected Bandcamp album.\n",
      "\n",
      "Tamlin - Bitter Fruit EP\n",
      "1. https://scuffedrecs.bandcamp.com/track/bitter-fruit\n",
      "2. https://scuffedrecs.bandcamp.com/track/flutter-in-blue\n",
      "\n",
      "Writing album to /Users/george.pied/Code/clumzy/bandcamp_sorter/output/Tamlin - Bitter Fruit EP/\n",
      "\n",
      "Downloading: Tamlin - Bitter Fruit EP - 1 Bitter Fruit.mp3\n",
      "[==================================================>] 5.43MB / 5.43MB \n",
      "\n",
      "Downloading: Tamlin - Bitter Fruit EP - 2 Flutter In Blue.mp3\n",
      "[=============>                                     ] 1.53MB / 5.71MB "
     ]
    },
    {
     "name": "stderr",
     "output_type": "stream",
     "text": [
      "IOPub message rate exceeded.\n",
      "The notebook server will temporarily stop sending output\n",
      "to the client in order to avoid crashing it.\n",
      "To change this limit, set the config variable\n",
      "`--NotebookApp.iopub_msg_rate_limit`.\n",
      "\n",
      "Current values:\n",
      "NotebookApp.iopub_msg_rate_limit=1000.0 (msgs/sec)\n",
      "NotebookApp.rate_limit_window=3.0 (secs)\n",
      "\n"
     ]
    },
    {
     "name": "stdout",
     "output_type": "stream",
     "text": [
      "\n",
      "Detected Bandcamp track.\n",
      "\n",
      "Writing file to /Users/george.pied/Code/clumzy/bandcamp_sorter/output/\n",
      "\n",
      "Downloading: Demuja - Bring The Bass Back.mp3\n",
      "[==================================================>] 4.89MB / 4.89MB \n",
      "\n",
      "Finished track download. Downloader complete.\n",
      "\n",
      "Detected Bandcamp album.\n",
      "\n",
      "Dax J - Brixton EP\n",
      "1. https://monnomblack.bandcamp.com/track/brixton\n",
      "\n",
      "Writing album to /Users/george.pied/Code/clumzy/bandcamp_sorter/output/Dax J - Brixton EP/\n",
      "\n",
      "Downloading: Dax J - Brixton EP - 1 Brixton.mp3\n",
      "[==================================================>] 5.93MB / 5.93MB \n",
      "\n",
      "Finished album download. Downloader complete.\n",
      "\n",
      "Detected Bandcamp album.\n",
      "\n",
      "Pessimist - Blue 09\n",
      "1. https://ad93.bandcamp.com/track/danger\n",
      "\n",
      "Writing album to /Users/george.pied/Code/clumzy/bandcamp_sorter/output/Pessimist - Blue 09/\n",
      "\n",
      "Downloading: Pessimist - Blue 09 - 1 Danger.mp3\n",
      "[========================================>          ] 5.85MB / 7.23MB "
     ]
    },
    {
     "name": "stderr",
     "output_type": "stream",
     "text": [
      "IOPub message rate exceeded.\n",
      "The notebook server will temporarily stop sending output\n",
      "to the client in order to avoid crashing it.\n",
      "To change this limit, set the config variable\n",
      "`--NotebookApp.iopub_msg_rate_limit`.\n",
      "\n",
      "Current values:\n",
      "NotebookApp.iopub_msg_rate_limit=1000.0 (msgs/sec)\n",
      "NotebookApp.rate_limit_window=3.0 (secs)\n",
      "\n"
     ]
    },
    {
     "name": "stdout",
     "output_type": "stream",
     "text": [
      "\n",
      "Detected Bandcamp album.\n",
      "\n",
      "BZTN - CXCVII\n",
      "1. https://otomotrax.bandcamp.com/track/corrupted-minds\n",
      "2. https://otomotrax.bandcamp.com/track/do-you-still-think-of-me\n",
      "3. https://otomotrax.bandcamp.com/track/respect-yourself\n",
      "4. https://otomotrax.bandcamp.com/track/you-punk\n",
      "\n",
      "Writing album to /Users/george.pied/Code/clumzy/bandcamp_sorter/output/BZTN - CXCVII/\n",
      "\n",
      "Downloading: BZTN - CXCVII - 1 Corrupted Minds.mp3\n",
      "[==================================================>] 4.98MB / 4.98MB \n",
      "\n",
      "Downloading: BZTN - CXCVII - 2 Do You Still Think Of Me.mp3\n",
      "[==================>                                ] 2.11MB / 5.71MB "
     ]
    },
    {
     "name": "stderr",
     "output_type": "stream",
     "text": [
      "IOPub message rate exceeded.\n",
      "The notebook server will temporarily stop sending output\n",
      "to the client in order to avoid crashing it.\n",
      "To change this limit, set the config variable\n",
      "`--NotebookApp.iopub_msg_rate_limit`.\n",
      "\n",
      "Current values:\n",
      "NotebookApp.iopub_msg_rate_limit=1000.0 (msgs/sec)\n",
      "NotebookApp.rate_limit_window=3.0 (secs)\n",
      "\n"
     ]
    },
    {
     "name": "stdout",
     "output_type": "stream",
     "text": [
      "[==================================================>] 5.97MB / 5.97MB \n",
      "\n",
      "Downloading: BZTN - CXCVII - 4 You Punk.mp3\n",
      "[============>                                      ] 1.19MB / 4.69MB "
     ]
    },
    {
     "name": "stderr",
     "output_type": "stream",
     "text": [
      "IOPub message rate exceeded.\n",
      "The notebook server will temporarily stop sending output\n",
      "to the client in order to avoid crashing it.\n",
      "To change this limit, set the config variable\n",
      "`--NotebookApp.iopub_msg_rate_limit`.\n",
      "\n",
      "Current values:\n",
      "NotebookApp.iopub_msg_rate_limit=1000.0 (msgs/sec)\n",
      "NotebookApp.rate_limit_window=3.0 (secs)\n",
      "\n"
     ]
    },
    {
     "name": "stdout",
     "output_type": "stream",
     "text": [
      "\n",
      "Detected Bandcamp album.\n",
      "\n",
      "AISHA & Franck - Helfy Rapid EP\n",
      "1. https://carouse.bandcamp.com/track/bump-it-xo\n",
      "\n",
      "Writing album to /Users/george.pied/Code/clumzy/bandcamp_sorter/output/AISHA & Franck - Helfy Rapid EP/\n",
      "\n",
      "Downloading: AISHA & Franck - Helfy Rapid EP - 1 Bump It xo.mp3\n",
      "[==================================================>] 5.12MB / 5.12MB \n",
      "\n",
      "Finished album download. Downloader complete.\n",
      "\n",
      "Detected Bandcamp album.\n",
      "\n",
      "Szafran - Szafran - Animals [STEP041]\n",
      "1. https://steprecordings.bandcamp.com/track/animals\n",
      "2. https://steprecordings.bandcamp.com/track/secrets\n",
      "\n",
      "Writing album to /Users/george.pied/Code/clumzy/bandcamp_sorter/output/Szafran - Szafran - Animals [STEP041]/\n",
      "\n",
      "Downloading: Szafran - Szafran - Animals [STEP041] - 1 Animals.mp3\n",
      "File already found. Skipping download.\n",
      "\n",
      "Downloading: Szafran - Szafran - Animals [STEP041] - 2 Secrets.mp3\n",
      "File already found. Skipping download.\n",
      "\n",
      "Finished album download. Downloader complete.\n",
      "\n",
      "Detected Bandcamp album.\n",
      "\n",
      "Justin Jay - Warp EP\n",
      "1. https://10pillsmate.bandcamp.com/track/my-first-trance\n",
      "2. https://10pillsmate.bandcamp.com/track/warp\n",
      "3. https://10pillsmate.bandcamp.com/track/believe\n",
      "4. https://10pillsmate.bandcamp.com/track/5g\n",
      "\n",
      "Writing album to /Users/george.pied/Code/clumzy/bandcamp_sorter/output/Justin Jay - Warp EP/\n",
      "\n",
      "Downloading: Justin Jay - Warp EP - 1 My First Trance.mp3\n",
      "[==========>                                        ] 1.2MB / 5.51MB  "
     ]
    },
    {
     "ename": "KeyboardInterrupt",
     "evalue": "",
     "output_type": "error",
     "traceback": [
      "\u001b[0;31m---------------------------------------------------------------------------\u001b[0m",
      "\u001b[0;31mKeyboardInterrupt\u001b[0m                         Traceback (most recent call last)",
      "\u001b[1;32m/Users/george.pied/Code/clumzy/bandcamp_sorter/proto.ipynb Cellule 2\u001b[0m in \u001b[0;36m<cell line: 1>\u001b[0;34m()\u001b[0m\n\u001b[0;32m----> <a href='vscode-notebook-cell:/Users/george.pied/Code/clumzy/bandcamp_sorter/proto.ipynb#W2sZmlsZQ%3D%3D?line=0'>1</a>\u001b[0m bc\u001b[39m.\u001b[39;49mdownload_links()\n",
      "File \u001b[0;32m~/Code/clumzy/bandcamp_sorter/bandcamp_reader.py:231\u001b[0m, in \u001b[0;36mBandcampReader.download_links\u001b[0;34m(self)\u001b[0m\n\u001b[1;32m    225\u001b[0m \u001b[39mfor\u001b[39;00m l \u001b[39min\u001b[39;00m links[:]:\n\u001b[1;32m    226\u001b[0m     downloader \u001b[39m=\u001b[39m Downloader(\n\u001b[1;32m    227\u001b[0m         url \u001b[39m=\u001b[39m l[\u001b[39m1\u001b[39m],\n\u001b[1;32m    228\u001b[0m         out \u001b[39m=\u001b[39m \u001b[39m\"\u001b[39m\u001b[39moutput/\u001b[39m\u001b[39m\"\u001b[39m,\n\u001b[1;32m    229\u001b[0m         verbose\u001b[39m=\u001b[39m\u001b[39mTrue\u001b[39;00m,\n\u001b[1;32m    230\u001b[0m         art_enabled\u001b[39m=\u001b[39m\u001b[39mFalse\u001b[39;00m)\n\u001b[0;32m--> 231\u001b[0m     downloader\u001b[39m.\u001b[39;49mrun()\n",
      "File \u001b[0;32m~/.pyenv/versions/3.10.4/envs/main/lib/python3.10/site-packages/campdown/__init__.py:203\u001b[0m, in \u001b[0;36mDownloader.run\u001b[0;34m(self)\u001b[0m\n\u001b[1;32m    189\u001b[0m album \u001b[39m=\u001b[39m Album(\n\u001b[1;32m    190\u001b[0m     \u001b[39mself\u001b[39m\u001b[39m.\u001b[39murl,\n\u001b[1;32m    191\u001b[0m     \u001b[39mself\u001b[39m\u001b[39m.\u001b[39moutput,\n\u001b[0;32m   (...)\u001b[0m\n\u001b[1;32m    199\u001b[0m     abort_missing\u001b[39m=\u001b[39m\u001b[39mself\u001b[39m\u001b[39m.\u001b[39mabort_missing\n\u001b[1;32m    200\u001b[0m )\n\u001b[1;32m    202\u001b[0m \u001b[39mif\u001b[39;00m album\u001b[39m.\u001b[39mprepare():  \u001b[39m# Prepare the album with information from the supplied URL.\u001b[39;00m\n\u001b[0;32m--> 203\u001b[0m     album\u001b[39m.\u001b[39;49mdownload() \u001b[39mif\u001b[39;00m album\u001b[39m.\u001b[39mfetch() \u001b[39melse\u001b[39;00m \u001b[39mFalse\u001b[39;00m  \u001b[39m# Start the download process if fetches succeeded.\u001b[39;00m\n\u001b[1;32m    205\u001b[0m \u001b[39mif\u001b[39;00m \u001b[39mself\u001b[39m\u001b[39m.\u001b[39mverbose:\n\u001b[1;32m    206\u001b[0m     \u001b[39mprint\u001b[39m(\u001b[39m\"\u001b[39m\u001b[39m\\n\u001b[39;00m\u001b[39mFinished album download. Downloader complete.\u001b[39m\u001b[39m\"\u001b[39m)\n",
      "File \u001b[0;32m~/.pyenv/versions/3.10.4/envs/main/lib/python3.10/site-packages/campdown/album.py:257\u001b[0m, in \u001b[0;36mAlbum.download\u001b[0;34m(self)\u001b[0m\n\u001b[1;32m    254\u001b[0m     safe_print(\u001b[39m'\u001b[39m\u001b[39m\\n\u001b[39;00m\u001b[39mWriting album to \u001b[39m\u001b[39m{}\u001b[39;00m\u001b[39m'\u001b[39m\u001b[39m.\u001b[39mformat(\u001b[39mself\u001b[39m\u001b[39m.\u001b[39moutput))\n\u001b[1;32m    256\u001b[0m \u001b[39mfor\u001b[39;00m i \u001b[39min\u001b[39;00m \u001b[39mrange\u001b[39m(\u001b[39m0\u001b[39m, \u001b[39mlen\u001b[39m(\u001b[39mself\u001b[39m\u001b[39m.\u001b[39mqueue)):\n\u001b[0;32m--> 257\u001b[0m     \u001b[39mself\u001b[39;49m\u001b[39m.\u001b[39;49mqueue[i]\u001b[39m.\u001b[39;49mdownload()\n\u001b[1;32m    259\u001b[0m \u001b[39mif\u001b[39;00m \u001b[39mself\u001b[39m\u001b[39m.\u001b[39mart_enabled:\n\u001b[1;32m    260\u001b[0m     s \u001b[39m=\u001b[39m download_file(\u001b[39mself\u001b[39m\u001b[39m.\u001b[39mart_url, \u001b[39mself\u001b[39m\u001b[39m.\u001b[39moutput,\n\u001b[1;32m    261\u001b[0m                       \u001b[39m\"\u001b[39m\u001b[39mcover\u001b[39m\u001b[39m\"\u001b[39m \u001b[39m+\u001b[39m \u001b[39mself\u001b[39m\u001b[39m.\u001b[39mart_url[\u001b[39m-\u001b[39m\u001b[39m4\u001b[39m:])\n",
      "File \u001b[0;32m~/.pyenv/versions/3.10.4/envs/main/lib/python3.10/site-packages/campdown/track.py:224\u001b[0m, in \u001b[0;36mTrack.download\u001b[0;34m(self)\u001b[0m\n\u001b[1;32m    218\u001b[0m     clean_title \u001b[39m=\u001b[39m short_information(\n\u001b[1;32m    219\u001b[0m         \u001b[39mself\u001b[39m\u001b[39m.\u001b[39mtitle,\n\u001b[1;32m    220\u001b[0m         \u001b[39mself\u001b[39m\u001b[39m.\u001b[39mindex\n\u001b[1;32m    221\u001b[0m     )\n\u001b[1;32m    223\u001b[0m \u001b[39m# Download the file.\u001b[39;00m\n\u001b[0;32m--> 224\u001b[0m status \u001b[39m=\u001b[39m download_file(\n\u001b[1;32m    225\u001b[0m     \u001b[39mself\u001b[39;49m\u001b[39m.\u001b[39;49mmp3_url,\n\u001b[1;32m    226\u001b[0m     \u001b[39mself\u001b[39;49m\u001b[39m.\u001b[39;49moutput,\n\u001b[1;32m    227\u001b[0m     clean_title \u001b[39m+\u001b[39;49m \u001b[39m\"\u001b[39;49m\u001b[39m.mp3\u001b[39;49m\u001b[39m\"\u001b[39;49m,\n\u001b[1;32m    228\u001b[0m     verbose\u001b[39m=\u001b[39;49m\u001b[39mself\u001b[39;49m\u001b[39m.\u001b[39;49mverbose,\n\u001b[1;32m    229\u001b[0m     silent\u001b[39m=\u001b[39;49m\u001b[39mself\u001b[39;49m\u001b[39m.\u001b[39;49msilent,\n\u001b[1;32m    230\u001b[0m     sleep\u001b[39m=\u001b[39;49m\u001b[39mself\u001b[39;49m\u001b[39m.\u001b[39;49msleep\n\u001b[1;32m    231\u001b[0m )\n\u001b[1;32m    233\u001b[0m \u001b[39m# Abort further processes if we receive an error status code.\u001b[39;00m\n\u001b[1;32m    234\u001b[0m \u001b[39mif\u001b[39;00m \u001b[39mnot\u001b[39;00m status \u001b[39mor\u001b[39;00m status \u001b[39m>\u001b[39m \u001b[39m2\u001b[39m:\n",
      "File \u001b[0;32m~/.pyenv/versions/3.10.4/envs/main/lib/python3.10/site-packages/campdown/helpers.py:389\u001b[0m, in \u001b[0;36mdownload_file\u001b[0;34m(url, output, name, force, verbose, silent, sleep, timeout, max_retries)\u001b[0m\n\u001b[1;32m    378\u001b[0m         sys\u001b[39m.\u001b[39mstdout\u001b[39m.\u001b[39mwrite(\n\u001b[1;32m    379\u001b[0m             \u001b[39m\"\u001b[39m\u001b[39m\\r\u001b[39;00m\u001b[39m[\u001b[39m\u001b[39m{}\u001b[39;00m\u001b[39m{}\u001b[39;00m\u001b[39m{}\u001b[39;00m\u001b[39m] \u001b[39m\u001b[39m{}\u001b[39;00m\u001b[39mMB / \u001b[39m\u001b[39m{}\u001b[39;00m\u001b[39mMB \u001b[39m\u001b[39m\"\u001b[39m\u001b[39m.\u001b[39mformat(\n\u001b[1;32m    380\u001b[0m                 \u001b[39m\"\u001b[39m\u001b[39m=\u001b[39m\u001b[39m\"\u001b[39m \u001b[39m*\u001b[39m done,\n\u001b[0;32m   (...)\u001b[0m\n\u001b[1;32m    385\u001b[0m             )\n\u001b[1;32m    386\u001b[0m         )\n\u001b[1;32m    388\u001b[0m         \u001b[39m# Flush the output buffer so we can overwrite the same line.\u001b[39;00m\n\u001b[0;32m--> 389\u001b[0m         sys\u001b[39m.\u001b[39;49mstdout\u001b[39m.\u001b[39;49mflush()\n\u001b[1;32m    390\u001b[0m f\u001b[39m.\u001b[39mflush()\n\u001b[1;32m    392\u001b[0m \u001b[39m# Verify our download size for completion. Since the file sizes will\u001b[39;00m\n\u001b[1;32m    393\u001b[0m \u001b[39m# not entirely match up because of possible ID3 tag differences or\u001b[39;00m\n\u001b[1;32m    394\u001b[0m \u001b[39m# additional headers, pass a margin/percentage confidence check instead.\u001b[39;00m\n",
      "File \u001b[0;32m~/.pyenv/versions/3.10.4/envs/main/lib/python3.10/site-packages/ipykernel/iostream.py:480\u001b[0m, in \u001b[0;36mOutStream.flush\u001b[0;34m(self)\u001b[0m\n\u001b[1;32m    478\u001b[0m     \u001b[39mself\u001b[39m\u001b[39m.\u001b[39mpub_thread\u001b[39m.\u001b[39mschedule(evt\u001b[39m.\u001b[39mset)\n\u001b[1;32m    479\u001b[0m     \u001b[39m# and give a timeout to avoid\u001b[39;00m\n\u001b[0;32m--> 480\u001b[0m     \u001b[39mif\u001b[39;00m \u001b[39mnot\u001b[39;00m evt\u001b[39m.\u001b[39;49mwait(\u001b[39mself\u001b[39;49m\u001b[39m.\u001b[39;49mflush_timeout):\n\u001b[1;32m    481\u001b[0m         \u001b[39m# write directly to __stderr__ instead of warning because\u001b[39;00m\n\u001b[1;32m    482\u001b[0m         \u001b[39m# if this is happening sys.stderr may be the problem.\u001b[39;00m\n\u001b[1;32m    483\u001b[0m         \u001b[39mprint\u001b[39m(\u001b[39m\"\u001b[39m\u001b[39mIOStream.flush timed out\u001b[39m\u001b[39m\"\u001b[39m, file\u001b[39m=\u001b[39msys\u001b[39m.\u001b[39m__stderr__)\n\u001b[1;32m    484\u001b[0m \u001b[39melse\u001b[39;00m:\n",
      "File \u001b[0;32m~/.pyenv/versions/3.10.4/lib/python3.10/threading.py:600\u001b[0m, in \u001b[0;36mEvent.wait\u001b[0;34m(self, timeout)\u001b[0m\n\u001b[1;32m    598\u001b[0m signaled \u001b[39m=\u001b[39m \u001b[39mself\u001b[39m\u001b[39m.\u001b[39m_flag\n\u001b[1;32m    599\u001b[0m \u001b[39mif\u001b[39;00m \u001b[39mnot\u001b[39;00m signaled:\n\u001b[0;32m--> 600\u001b[0m     signaled \u001b[39m=\u001b[39m \u001b[39mself\u001b[39;49m\u001b[39m.\u001b[39;49m_cond\u001b[39m.\u001b[39;49mwait(timeout)\n\u001b[1;32m    601\u001b[0m \u001b[39mreturn\u001b[39;00m signaled\n",
      "File \u001b[0;32m~/.pyenv/versions/3.10.4/lib/python3.10/threading.py:324\u001b[0m, in \u001b[0;36mCondition.wait\u001b[0;34m(self, timeout)\u001b[0m\n\u001b[1;32m    322\u001b[0m \u001b[39melse\u001b[39;00m:\n\u001b[1;32m    323\u001b[0m     \u001b[39mif\u001b[39;00m timeout \u001b[39m>\u001b[39m \u001b[39m0\u001b[39m:\n\u001b[0;32m--> 324\u001b[0m         gotit \u001b[39m=\u001b[39m waiter\u001b[39m.\u001b[39;49macquire(\u001b[39mTrue\u001b[39;49;00m, timeout)\n\u001b[1;32m    325\u001b[0m     \u001b[39melse\u001b[39;00m:\n\u001b[1;32m    326\u001b[0m         gotit \u001b[39m=\u001b[39m waiter\u001b[39m.\u001b[39macquire(\u001b[39mFalse\u001b[39;00m)\n",
      "\u001b[0;31mKeyboardInterrupt\u001b[0m: "
     ]
    }
   ],
   "source": [
    "bc.download_links()"
   ]
  }
 ],
 "metadata": {
  "kernelspec": {
   "display_name": "Python 3.10.4 64-bit ('main')",
   "language": "python",
   "name": "python3"
  },
  "language_info": {
   "codemirror_mode": {
    "name": "ipython",
    "version": 3
   },
   "file_extension": ".py",
   "mimetype": "text/x-python",
   "name": "python",
   "nbconvert_exporter": "python",
   "pygments_lexer": "ipython3",
   "version": "3.10.4"
  },
  "orig_nbformat": 4,
  "vscode": {
   "interpreter": {
    "hash": "a0359c36fa39669e9bddb1e4158e16fa68c473fba30a03b69d357540becad2c4"
   }
  }
 },
 "nbformat": 4,
 "nbformat_minor": 2
}
