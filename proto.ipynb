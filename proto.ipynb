{
 "cells": [
  {
   "cell_type": "code",
   "execution_count": 1,
   "metadata": {},
   "outputs": [
    {
     "name": "stdout",
     "output_type": "stream",
     "text": [
      "Table links has been found. Connecting now !\n"
     ]
    },
    {
     "name": "stderr",
     "output_type": "stream",
     "text": [
      "100%|██████████| 318/318 [00:05<00:00, 53.70it/s] \n"
     ]
    }
   ],
   "source": [
    "from bandcamp_reader import BandcampReader\n",
    "\n",
    "bc = BandcampReader()\n",
    "links = bc.load_releases(verbose=False)"
   ]
  },
  {
   "cell_type": "code",
   "execution_count": 2,
   "metadata": {},
   "outputs": [
    {
     "data": {
      "text/plain": [
       "[('189642d45c561b15',\n",
       "  'https://music4aliens.bandcamp.com/album/music4aliens-podcast-welcome-to-the-alien-base'),\n",
       " ('18945ffb3b7cb64e',\n",
       "  'https://music4aliens.bandcamp.com/track/welcome-to-the-alien-base-ep-06-cosmic-ray')]"
      ]
     },
     "execution_count": 2,
     "metadata": {},
     "output_type": "execute_result"
    }
   ],
   "source": [
    "bc.remove_tracks_from_gmail()"
   ]
  },
  {
   "cell_type": "code",
   "execution_count": 2,
   "metadata": {},
   "outputs": [
    {
     "name": "stderr",
     "output_type": "stream",
     "text": [
      "100%|██████████| 14/14 [01:07<00:00,  4.81s/it]\n"
     ]
    }
   ],
   "source": [
    "bc.download_links()"
   ]
  }
 ],
 "metadata": {
  "kernelspec": {
   "display_name": "Python 3.10.4 64-bit ('main')",
   "language": "python",
   "name": "python3"
  },
  "language_info": {
   "codemirror_mode": {
    "name": "ipython",
    "version": 3
   },
   "file_extension": ".py",
   "mimetype": "text/x-python",
   "name": "python",
   "nbconvert_exporter": "python",
   "pygments_lexer": "ipython3",
   "version": "3.11.0"
  },
  "orig_nbformat": 4,
  "vscode": {
   "interpreter": {
    "hash": "f0525b7cc4b8c2954bc42016ed01073f60791468b94cf280e53489d3a471fb46"
   }
  }
 },
 "nbformat": 4,
 "nbformat_minor": 2
}
